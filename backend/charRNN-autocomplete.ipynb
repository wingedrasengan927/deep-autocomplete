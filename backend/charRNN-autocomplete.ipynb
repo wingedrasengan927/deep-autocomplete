{
 "cells": [
  {
   "cell_type": "code",
   "execution_count": 1,
   "id": "3379ea9e",
   "metadata": {},
   "outputs": [],
   "source": [
    "import numpy as np\n",
    "import pandas as pd\n",
    "import matplotlib.pyplot as plt\n",
    "import seaborn as sns\n",
    "from tqdm import tqdm\n",
    "\n",
    "import torch\n",
    "from torch.nn.utils.rnn import pad_sequence\n",
    "from torch.utils.data import Dataset\n",
    "import torch.nn.functional as F\n",
    "from torch.utils.data import DataLoader\n",
    "import torch.nn as nn\n",
    "from torch.nn.utils import clip_grad_norm_\n",
    "import torch.optim as optim"
   ]
  },
  {
   "cell_type": "code",
   "execution_count": 2,
   "id": "66315054",
   "metadata": {},
   "outputs": [],
   "source": [
    "from string import printable\n",
    "import re\n",
    "import os"
   ]
  },
  {
   "cell_type": "markdown",
   "id": "b1efb3ca",
   "metadata": {},
   "source": [
    "### Parse and Load data\n",
    "The raw data contains some non ASCII characters, so we remove these characters, parse the data, and load all the files into a single pandas dataframe keeping only the \"Question\" attribute"
   ]
  },
  {
   "cell_type": "code",
   "execution_count": 3,
   "id": "677bd7e5",
   "metadata": {},
   "outputs": [],
   "source": [
    "root = \"data\"\n",
    "raw_data_path = os.path.join(root, \"raw_data\")\n",
    "parsed_data_path = os.path.join(root, \"parsed_data\") \n",
    "processed_data_path = os.path.join(root, \"processed_data\")   "
   ]
  },
  {
   "cell_type": "code",
   "execution_count": 4,
   "id": "9e633dff",
   "metadata": {},
   "outputs": [],
   "source": [
    "for txt_file in os.listdir(raw_data_path):\n",
    "    raw_file_path = os.path.join(raw_data_path, txt_file)\n",
    "    parsed_file_path = os.path.join(parsed_data_path, txt_file)\n",
    "    with open(raw_file_path, \"r\", encoding=\"utf-8\") as f:\n",
    "        parsed_file = \"\".join([char for char in f.read() if char in printable])\n",
    "    with open(parsed_file_path, \"w\") as f:\n",
    "        f.write(parsed_file)"
   ]
  },
  {
   "cell_type": "markdown",
   "id": "58bc6088",
   "metadata": {},
   "source": [
    "#### Show dataset sample"
   ]
  },
  {
   "cell_type": "code",
   "execution_count": 5,
   "id": "e1c09ee4",
   "metadata": {},
   "outputs": [
    {
     "data": {
      "text/html": [
       "<div>\n",
       "<style scoped>\n",
       "    .dataframe tbody tr th:only-of-type {\n",
       "        vertical-align: middle;\n",
       "    }\n",
       "\n",
       "    .dataframe tbody tr th {\n",
       "        vertical-align: top;\n",
       "    }\n",
       "\n",
       "    .dataframe thead th {\n",
       "        text-align: right;\n",
       "    }\n",
       "</style>\n",
       "<table border=\"1\" class=\"dataframe\">\n",
       "  <thead>\n",
       "    <tr style=\"text-align: right;\">\n",
       "      <th></th>\n",
       "      <th>ArticleTitle</th>\n",
       "      <th>Question</th>\n",
       "      <th>Answer</th>\n",
       "      <th>DifficultyFromQuestioner</th>\n",
       "      <th>DifficultyFromAnswerer</th>\n",
       "      <th>ArticleFile</th>\n",
       "    </tr>\n",
       "  </thead>\n",
       "  <tbody>\n",
       "    <tr>\n",
       "      <th>0</th>\n",
       "      <td>Abraham_Lincoln</td>\n",
       "      <td>Was Abraham Lincoln the sixteenth President of...</td>\n",
       "      <td>yes</td>\n",
       "      <td>easy</td>\n",
       "      <td>easy</td>\n",
       "      <td>S08_set3_a4</td>\n",
       "    </tr>\n",
       "    <tr>\n",
       "      <th>1</th>\n",
       "      <td>Abraham_Lincoln</td>\n",
       "      <td>Was Abraham Lincoln the sixteenth President of...</td>\n",
       "      <td>Yes.</td>\n",
       "      <td>easy</td>\n",
       "      <td>easy</td>\n",
       "      <td>S08_set3_a4</td>\n",
       "    </tr>\n",
       "    <tr>\n",
       "      <th>2</th>\n",
       "      <td>Abraham_Lincoln</td>\n",
       "      <td>Did Lincoln sign the National Banking Act of 1...</td>\n",
       "      <td>yes</td>\n",
       "      <td>easy</td>\n",
       "      <td>medium</td>\n",
       "      <td>S08_set3_a4</td>\n",
       "    </tr>\n",
       "    <tr>\n",
       "      <th>3</th>\n",
       "      <td>Abraham_Lincoln</td>\n",
       "      <td>Did Lincoln sign the National Banking Act of 1...</td>\n",
       "      <td>Yes.</td>\n",
       "      <td>easy</td>\n",
       "      <td>easy</td>\n",
       "      <td>S08_set3_a4</td>\n",
       "    </tr>\n",
       "    <tr>\n",
       "      <th>4</th>\n",
       "      <td>Abraham_Lincoln</td>\n",
       "      <td>Did his mother die of pneumonia?</td>\n",
       "      <td>no</td>\n",
       "      <td>easy</td>\n",
       "      <td>medium</td>\n",
       "      <td>S08_set3_a4</td>\n",
       "    </tr>\n",
       "  </tbody>\n",
       "</table>\n",
       "</div>"
      ],
      "text/plain": [
       "      ArticleTitle                                           Question Answer  \\\n",
       "0  Abraham_Lincoln  Was Abraham Lincoln the sixteenth President of...    yes   \n",
       "1  Abraham_Lincoln  Was Abraham Lincoln the sixteenth President of...   Yes.   \n",
       "2  Abraham_Lincoln  Did Lincoln sign the National Banking Act of 1...    yes   \n",
       "3  Abraham_Lincoln  Did Lincoln sign the National Banking Act of 1...   Yes.   \n",
       "4  Abraham_Lincoln                   Did his mother die of pneumonia?     no   \n",
       "\n",
       "  DifficultyFromQuestioner DifficultyFromAnswerer  ArticleFile  \n",
       "0                     easy                   easy  S08_set3_a4  \n",
       "1                     easy                   easy  S08_set3_a4  \n",
       "2                     easy                 medium  S08_set3_a4  \n",
       "3                     easy                   easy  S08_set3_a4  \n",
       "4                     easy                 medium  S08_set3_a4  "
      ]
     },
     "execution_count": 5,
     "metadata": {},
     "output_type": "execute_result"
    }
   ],
   "source": [
    "pd.read_table(\"data/parsed_data/S08_question_answer_pairs.txt\").head()"
   ]
  },
  {
   "cell_type": "code",
   "execution_count": 6,
   "id": "a557bd0d",
   "metadata": {},
   "outputs": [],
   "source": [
    "questions_all = pd.concat([pd.read_table(os.path.join(parsed_data_path, file_name))[\"Question\"] \\\n",
    " for file_name in os.listdir(parsed_data_path)])"
   ]
  },
  {
   "cell_type": "markdown",
   "id": "46b42a95",
   "metadata": {},
   "source": [
    "#### Basis Preprocessing\n",
    "Do some basic preprocessing like dropping null values and duplicates"
   ]
  },
  {
   "cell_type": "code",
   "execution_count": 7,
   "id": "3ae05079",
   "metadata": {},
   "outputs": [],
   "source": [
    "questions_all.dropna(inplace=True)"
   ]
  },
  {
   "cell_type": "code",
   "execution_count": 8,
   "id": "c3fea93d",
   "metadata": {},
   "outputs": [],
   "source": [
    "questions_all = questions_all.unique()"
   ]
  },
  {
   "cell_type": "code",
   "execution_count": 9,
   "id": "b9835347",
   "metadata": {},
   "outputs": [
    {
     "data": {
      "text/plain": [
       "array(['Did Lincoln start his political career in 1832?',\n",
       "       'Did Lincoln ever represent Alton & Sangamon Railroad?',\n",
       "       'Which county was Lincoln born in?',\n",
       "       'When did Lincoln first serve as President?',\n",
       "       'Who assassinated Lincoln?'], dtype=object)"
      ]
     },
     "execution_count": 9,
     "metadata": {},
     "output_type": "execute_result"
    }
   ],
   "source": [
    "questions_all[10:15]"
   ]
  },
  {
   "cell_type": "code",
   "execution_count": 10,
   "id": "a41fd19b",
   "metadata": {},
   "outputs": [
    {
     "data": {
      "text/plain": [
       "2454"
      ]
     },
     "execution_count": 10,
     "metadata": {},
     "output_type": "execute_result"
    }
   ],
   "source": [
    "len(questions_all)"
   ]
  },
  {
   "cell_type": "markdown",
   "id": "663f5027",
   "metadata": {},
   "source": [
    "#### Preprocessing\n",
    "remove punctuations, multiple white spaces, tabs, newlines, text between brackets, and null questions"
   ]
  },
  {
   "cell_type": "code",
   "execution_count": 11,
   "id": "98aae4fc",
   "metadata": {},
   "outputs": [],
   "source": [
    "def preprocess_text(question):\n",
    "    question = question.replace(\"S08_\", \"\")\n",
    "    question = question.replace(\"NOTTTT  FOUND\", \"\")\n",
    "    question = re.sub(\"([\\(\\[]).*?([\\)\\]])\", \"\", question) # remove text between brackets\n",
    "    question = re.sub(\"[^\\w\\s]\", \"\", question) # remove punctuations\n",
    "    re.sub(\"\\s+\", \" \", question) # remove multiple white spaces\n",
    "    re.sub(\"[\\t\\n]\", \"\", question) # remove tabs and newline characters\n",
    "    question = question.lower().strip()\n",
    "    return question"
   ]
  },
  {
   "cell_type": "code",
   "execution_count": 12,
   "id": "d16475d8",
   "metadata": {},
   "outputs": [],
   "source": [
    "questions_processed = [preprocess_text(q) for q in questions_all]\n",
    "questions_processed = [q for q in questions_processed if len(q) != 0] # remove empty strings after preprocessing"
   ]
  },
  {
   "cell_type": "markdown",
   "id": "7d9644ce",
   "metadata": {},
   "source": [
    "#### Remove long questions\n",
    "Since we want to emulate a search engine, we ought to remove long sentences and paragraphs"
   ]
  },
  {
   "cell_type": "code",
   "execution_count": 13,
   "id": "dfd43897",
   "metadata": {},
   "outputs": [],
   "source": [
    "q_lengths = [len(q) for q in questions_processed]"
   ]
  },
  {
   "cell_type": "code",
   "execution_count": 14,
   "id": "f6adebe4",
   "metadata": {},
   "outputs": [
    {
     "data": {
      "text/plain": [
       "<seaborn.axisgrid.FacetGrid at 0x1e4e74e92c8>"
      ]
     },
     "execution_count": 14,
     "metadata": {},
     "output_type": "execute_result"
    },
    {
     "data": {
      "image/png": "[encoded data removed]",
      "text/plain": [
       "<Figure size 360x360 with 1 Axes>"
      ]
     },
     "metadata": {
      "needs_background": "light"
     },
     "output_type": "display_data"
    }
   ],
   "source": [
    "sns.displot(q_lengths)"
   ]
  },
  {
   "cell_type": "markdown",
   "id": "ba243815",
   "metadata": {},
   "source": [
    "We can see that most of the questions have lengths between roughly 20 and 80. Let's calculate the optimum length of questions we want to keep - which will be standard deviation distance away from the mean - and discard rest of the long questions"
   ]
  },
  {
   "cell_type": "code",
   "execution_count": 15,
   "id": "5f3e3884",
   "metadata": {},
   "outputs": [
    {
     "name": "stdout",
     "output_type": "stream",
     "text": [
      "mean: 52.3442088091354, std: 29.053359020555256\n"
     ]
    }
   ],
   "source": [
    "mean = np.mean(q_lengths)\n",
    "std = np.std(q_lengths)\n",
    "print(f\"mean: {mean}, std: {std}\")"
   ]
  },
  {
   "cell_type": "code",
   "execution_count": 16,
   "id": "e33df3dd",
   "metadata": {},
   "outputs": [
    {
     "name": "stdout",
     "output_type": "stream",
     "text": [
      "optimum length: 81\n"
     ]
    }
   ],
   "source": [
    "optimum_length = int(mean + std)\n",
    "print(f\"optimum length: {optimum_length}\")"
   ]
  },
  {
   "cell_type": "code",
   "execution_count": 17,
   "id": "cf36e987",
   "metadata": {},
   "outputs": [],
   "source": [
    "questions_short = [q for q in questions_processed if len(q) <= optimum_length]"
   ]
  },
  {
   "cell_type": "markdown",
   "id": "f2d3f36c",
   "metadata": {},
   "source": [
    "#### Shuffle Data"
   ]
  },
  {
   "cell_type": "code",
   "execution_count": 18,
   "id": "d6dc4466",
   "metadata": {},
   "outputs": [],
   "source": [
    "import random\n",
    "random.seed(42)\n",
    "random.shuffle(questions_short)"
   ]
  },
  {
   "cell_type": "code",
   "execution_count": 19,
   "id": "81bdcdc5",
   "metadata": {},
   "outputs": [
    {
     "data": {
      "text/plain": [
       "['how old was pascal when he lost his mother',\n",
       " 'can the palatal nasal occur in word initial position  eg',\n",
       " 'when did he drop john from his name',\n",
       " 'why do penguins tobaggan',\n",
       " 'is nairobi not the capital as well as largest city of kenya']"
      ]
     },
     "execution_count": 19,
     "metadata": {},
     "output_type": "execute_result"
    }
   ],
   "source": [
    "questions_short[52:57]"
   ]
  },
  {
   "cell_type": "markdown",
   "id": "58c493ba",
   "metadata": {},
   "source": [
    "### Create Dataset and Dataloader\n",
    "Here we create the vocab, encode questions as char indices, and perform one-hot encoding and padding"
   ]
  },
  {
   "cell_type": "code",
   "execution_count": 20,
   "id": "88b1c339",
   "metadata": {},
   "outputs": [],
   "source": [
    "class QuestionsDataset(Dataset):\n",
    "    def __init__(self, questions, vocab, sos_token, eos_token, batch_first=False):\n",
    "        \n",
    "        # initialize parameters\n",
    "        self.sos_idx = 0\n",
    "        self.eos_idx = 1\n",
    "        self.int2char = {self.sos_idx: sos_token, self.eos_idx: eos_token} # insert start of sentence and end of sentence tokens\n",
    "        self.int2char.update({idx: char for idx, char in enumerate(vocab, start=self.eos_idx+1)})\n",
    "        self.char2int = {char: idx for idx, char in self.int2char.items()}\n",
    "        self.n_chars = len(self.int2char)\n",
    "        \n",
    "        # encode and pad questions\n",
    "        self.questions_encoded = pad_sequence([self.encode_question(q) for q in questions], \\\n",
    "                                              batch_first=batch_first)\n",
    "                \n",
    "    def __len__(self):\n",
    "        return len(self.questions_encoded)\n",
    "    \n",
    "    def __getitem__(self, idx):\n",
    "        return self.questions_encoded[idx]\n",
    "        \n",
    "    def encode_question(self, question):\n",
    "        '''\n",
    "        encode question as char indices and perform one-hot encoding\n",
    "        '''\n",
    "        question_encoded = [self.sos_idx] # append sos\n",
    "        for char in question:\n",
    "            question_encoded.append(self.char2int[char])\n",
    "        question_encoded.append(self.eos_idx) # append eos\n",
    "        return F.one_hot(torch.tensor(question_encoded, dtype=torch.long), self.n_chars).float()"
   ]
  },
  {
   "cell_type": "code",
   "execution_count": 21,
   "id": "a355c030",
   "metadata": {},
   "outputs": [],
   "source": [
    "vocab = sorted(set(\"\".join(questions_short)))\n",
    "sos_token = '['\n",
    "eos_token = ']'\n",
    "BATCH_FIRST=True\n",
    "BATCH_SIZE=64\n",
    "device = torch.device(\"cuda\" if torch.cuda.is_available() else \"cpu\")"
   ]
  },
  {
   "cell_type": "markdown",
   "id": "1ff7f828",
   "metadata": {},
   "source": [
    "#### Create train and val set"
   ]
  },
  {
   "cell_type": "code",
   "execution_count": 22,
   "id": "fc373315",
   "metadata": {},
   "outputs": [
    {
     "name": "stdout",
     "output_type": "stream",
     "text": [
      "n_train: 1977, n_val: 219\n"
     ]
    }
   ],
   "source": [
    "val_percent = 0.1\n",
    "n_val = int(val_percent * len(questions_short))\n",
    "n_train = len(questions_short) - n_val\n",
    "print(f\"n_train: {n_train}, n_val: {n_val}\")"
   ]
  },
  {
   "cell_type": "code",
   "execution_count": 23,
   "id": "0678986b",
   "metadata": {},
   "outputs": [],
   "source": [
    "questions_train = questions_short[:n_train]\n",
    "questions_val = questions_short[n_train:]"
   ]
  },
  {
   "cell_type": "code",
   "execution_count": 24,
   "id": "8c5e37f1",
   "metadata": {},
   "outputs": [],
   "source": [
    "train_dataset = QuestionsDataset(questions_train, vocab, sos_token, eos_token, batch_first=BATCH_FIRST)\n",
    "val_dataset = QuestionsDataset(questions_val, vocab, sos_token, eos_token, batch_first=BATCH_FIRST)\n",
    "\n",
    "train_dataloader = DataLoader(train_dataset, batch_size=BATCH_SIZE, shuffle=True)\n",
    "val_dataloader = DataLoader(val_dataset, batch_size=BATCH_SIZE, shuffle=True)"
   ]
  },
  {
   "cell_type": "code",
   "execution_count": 25,
   "id": "46065ce0",
   "metadata": {},
   "outputs": [],
   "source": [
    "assert train_dataset.n_chars == val_dataset.n_chars"
   ]
  },
  {
   "cell_type": "markdown",
   "id": "70ad05d9",
   "metadata": {},
   "source": [
    "### Define Model"
   ]
  },
  {
   "cell_type": "code",
   "execution_count": 24,
   "id": "eaa1aef3",
   "metadata": {},
   "outputs": [],
   "source": [
    "class charRNN(nn.Module):\n",
    "    \n",
    "    def __init__(self, VOCAB_SIZE, HIDDEN_SIZE, N_LAYERS=2, P_DROPOUT=0.5, batch_first=False):\n",
    "        super().__init__()\n",
    "        self.HIDDEN_SIZE = HIDDEN_SIZE\n",
    "        self.N_LAYERS = N_LAYERS\n",
    "        self.lstm = nn.LSTM(VOCAB_SIZE, HIDDEN_SIZE, batch_first=batch_first, \n",
    "                            dropout=P_DROPOUT, num_layers=N_LAYERS)\n",
    "        self.dropout = nn.Dropout(P_DROPOUT)\n",
    "        self.fc = nn.Linear(HIDDEN_SIZE, VOCAB_SIZE)\n",
    "        \n",
    "    def forward(self, inputs, hidden):\n",
    "        lstm_out, hidden = self.lstm(inputs, hidden)\n",
    "        \n",
    "        # flatten the lstm output\n",
    "        lstm_out = torch.flatten(lstm_out, start_dim=0, end_dim=1)\n",
    "        \n",
    "        out = self.dropout(lstm_out)\n",
    "        out = self.fc(out)\n",
    "        \n",
    "        return out, hidden\n",
    "    \n",
    "    def init_hidden(self, BATCH_SIZE, device):\n",
    "        hidden = (torch.zeros((self.N_LAYERS, BATCH_SIZE, self.HIDDEN_SIZE), dtype=torch.float32).to(device),\n",
    "                  torch.zeros((self.N_LAYERS, BATCH_SIZE, self.HIDDEN_SIZE), dtype=torch.float32).to(device))\n",
    "        return hidden"
   ]
  },
  {
   "cell_type": "code",
   "execution_count": 25,
   "id": "22711b18",
   "metadata": {},
   "outputs": [],
   "source": [
    "VOCAB_SIZE=train_dataset.n_chars\n",
    "HIDDEN_SIZE=512\n",
    "N_LAYERS=3\n",
    "P_DROPOUT = 0.4"
   ]
  },
  {
   "cell_type": "code",
   "execution_count": 26,
   "id": "0bf34d09",
   "metadata": {},
   "outputs": [],
   "source": [
    "model = charRNN(VOCAB_SIZE, HIDDEN_SIZE, N_LAYERS, P_DROPOUT, BATCH_FIRST)"
   ]
  },
  {
   "cell_type": "markdown",
   "id": "3f415bfc",
   "metadata": {},
   "source": [
    "### Train the model"
   ]
  },
  {
   "cell_type": "code",
   "execution_count": 27,
   "id": "848dfbae",
   "metadata": {},
   "outputs": [
    {
     "data": {
      "text/plain": [
       "charRNN(\n",
       "  (lstm): LSTM(40, 256, num_layers=2, batch_first=True, dropout=0.5)\n",
       "  (dropout): Dropout(p=0.5, inplace=False)\n",
       "  (fc): Linear(in_features=256, out_features=40, bias=True)\n",
       ")"
      ]
     },
     "execution_count": 27,
     "metadata": {},
     "output_type": "execute_result"
    }
   ],
   "source": [
    "model.to(device=device)"
   ]
  },
  {
   "cell_type": "code",
   "execution_count": 28,
   "id": "a6fa614e",
   "metadata": {},
   "outputs": [],
   "source": [
    "n_epochs = 5\n",
    "optimizer = optim.Adam(model.parameters())\n",
    "loss = nn.CrossEntropyLoss()\n",
    "clip = 5"
   ]
  },
  {
   "cell_type": "code",
   "execution_count": 33,
   "id": "96619dae",
   "metadata": {},
   "outputs": [
    {
     "name": "stderr",
     "output_type": "stream",
     "text": [
      "100%|████████████████████████████████████████████████████████████████████████████████████| 5/5 [04:05<00:00, 49.20s/it]\n"
     ]
    }
   ],
   "source": [
    "train_loss_list = []\n",
    "val_loss_list = []\n",
    "\n",
    "for epoch in tqdm(range(n_epochs)):  \n",
    "    \n",
    "    # training\n",
    "    # -------------\n",
    "\n",
    "    n_batches_train = 0\n",
    "    cummulative_loss_train = 0 \n",
    "    \n",
    "    model.train()\n",
    "    \n",
    "    # initialize hidden state\n",
    "    hidden = model.init_hidden(BATCH_SIZE, device)\n",
    "    \n",
    "    for data_batch in train_dataloader:\n",
    "        \n",
    "        # detach hidden state\n",
    "        hidden = tuple([h.detach() for h in hidden])\n",
    "        \n",
    "        if data_batch.shape[0] != BATCH_SIZE:\n",
    "            continue\n",
    "        \n",
    "        # get data\n",
    "        labels, targets = data_batch[:, :-1, :].to(device), data_batch[:, 1:, :].to(device)\n",
    "        # get predictions\n",
    "        preds, hidden = model(labels, hidden)\n",
    "        # compute loss\n",
    "        target_idx = torch.argmax(targets, dim=2).long()\n",
    "        target_flatten = torch.flatten(target_idx, start_dim=0, end_dim=1)\n",
    "        train_loss = loss(preds, target_flatten)\n",
    "\n",
    "        # backpropagation\n",
    "        optimizer.zero_grad()\n",
    "        train_loss.backward()\n",
    "        \n",
    "        # clip the gradient before updating the weights\n",
    "        clip_grad_norm_(model.parameters(), clip)\n",
    "        optimizer.step()\n",
    "        \n",
    "        n_batches_train += 1\n",
    "        cummulative_loss_train += train_loss.item()\n",
    "        \n",
    "    loss_per_epoch_train = cummulative_loss_train / n_batches_train\n",
    "    train_loss_list.append(loss_per_epoch_train)\n",
    "    \n",
    "    # validation\n",
    "    # ---------------\n",
    "    \n",
    "    n_batches_val = 0\n",
    "    cummulative_loss_val = 0 \n",
    "    \n",
    "    model.eval()\n",
    "    hidden = model.init_hidden(BATCH_SIZE, device)\n",
    "    \n",
    "    for data_batch in val_dataloader:\n",
    "        \n",
    "        if data_batch.shape[0] != BATCH_SIZE:\n",
    "            continue\n",
    "\n",
    "        # get data\n",
    "        labels, targets = data_batch[:, :-1, :].to(device), data_batch[:, 1:, :].to(device)\n",
    "        # get predictions\n",
    "        with torch.no_grad():\n",
    "            preds, hidden = model(labels, hidden)\n",
    "            # compute loss\n",
    "            target_idx = torch.argmax(targets, dim=2).long()\n",
    "            target_flatten = torch.flatten(target_idx, start_dim=0, end_dim=1)\n",
    "            val_loss = loss(preds, target_flatten)\n",
    "            \n",
    "        n_batches_val += 1\n",
    "        cummulative_loss_val += val_loss.item()\n",
    "    \n",
    "    loss_per_epoch_val = cummulative_loss_val / n_batches_val\n",
    "    val_loss_list.append(loss_per_epoch_val)\n",
    "    \n",
    "    # save the model for every 10 epochs\n",
    "    if epoch % 10 == 0:\n",
    "        save_path = f\"saved_models/char_rnn_epoch_{epoch}.pt\"\n",
    "        torch.save(model.state_dict(), save_path)\n"
   ]
  },
  {
   "cell_type": "markdown",
   "id": "1d5a8da0",
   "metadata": {},
   "source": [
    "#### Plot the curves"
   ]
  },
  {
   "cell_type": "code",
   "execution_count": 34,
   "id": "559d740f",
   "metadata": {},
   "outputs": [
    {
     "data": {
      "text/plain": [
       "<matplotlib.legend.Legend at 0x22262c995c8>"
      ]
     },
     "execution_count": 34,
     "metadata": {},
     "output_type": "execute_result"
    },
    {
     "data": {
      "image/png": "[encoded data removed]",
      "text/plain": [
       "<Figure size 576x432 with 1 Axes>"
      ]
     },
     "metadata": {
      "needs_background": "light"
     },
     "output_type": "display_data"
    }
   ],
   "source": [
    "fig, axes = plt.subplots(1, 1, figsize=(8, 6))\n",
    "\n",
    "axes.plot(list(range(n_epochs)), train_loss_list, label=\"train loss\")\n",
    "axes.plot(list(range(n_epochs)), val_loss_list, color='orange', label=\"val loss\")\n",
    "\n",
    "axes.set_xlabel(\"Epoch\")\n",
    "axes.set_ylabel(\"Loss\")\n",
    "\n",
    "plt.legend()"
   ]
  },
  {
   "cell_type": "markdown",
   "id": "d7a7991a",
   "metadata": {},
   "source": [
    "### Generating Text"
   ]
  },
  {
   "cell_type": "code",
   "execution_count": 30,
   "id": "bfdd03f8",
   "metadata": {},
   "outputs": [],
   "source": [
    "class GenerateText:\n",
    "    def __init__(self, model, k, int2char, char2int, device):\n",
    "        self.int2char = int2char\n",
    "        self.char2int = char2int\n",
    "        self.n_chars = len(int2char)\n",
    "        self.model = model\n",
    "        self.device = device\n",
    "        self.k = k\n",
    "        self.sos_token = self.int2char[0]\n",
    "        self.eos_token = self.int2char[1]\n",
    "        \n",
    "    def predict_next_char(self, hidden, input_char):\n",
    "        \n",
    "        # encode char\n",
    "        char_one_hot = self.encode_char(input_char)\n",
    "\n",
    "        # get the predictions\n",
    "        with torch.no_grad():\n",
    "            out, hidden = self.model(char_one_hot, hidden)\n",
    "            \n",
    "            # convert the output to a character probability distribution\n",
    "            p = F.softmax(out, dim=1)\n",
    "\n",
    "            # move to cpu as numpy doesn't support gpu\n",
    "            p = p.cpu()\n",
    "\n",
    "            # get top k characters from the distribution\n",
    "            values, indices = p.topk(self.k)\n",
    "\n",
    "        indices = indices.squeeze().numpy()\n",
    "        values = values.squeeze().numpy()\n",
    "\n",
    "        # sample any char from the top k chars using the output softmax distribution\n",
    "        char_pred = np.random.choice(indices, size=1, p=values/values.sum())\n",
    "\n",
    "        return self.int2char[char_pred[0]], hidden\n",
    "    \n",
    "    def generate_text(self, prime, max_chars=80):\n",
    "        \n",
    "        prime = self.sos_token + prime\n",
    "        print(prime)\n",
    "\n",
    "        all_chars = [char for char in prime]\n",
    "        hidden = model.init_hidden(1, self.device)\n",
    "\n",
    "        # build up the hidden state using the initial prime\n",
    "        for char in prime:\n",
    "            char_pred, hidden = self.predict_next_char(hidden, char)\n",
    "\n",
    "        all_chars.append(char_pred)\n",
    "\n",
    "        # generate n chars\n",
    "        c = 0\n",
    "        while char_pred != self.eos_token:\n",
    "            if c == max_chars:\n",
    "                break\n",
    "            char_pred, hidden = self.predict_next_char(hidden, all_chars[-1])\n",
    "            all_chars.append(char_pred)\n",
    "            c += 1\n",
    "\n",
    "        return \"\".join(all_chars)\n",
    "        \n",
    "    def encode_char(self, char):\n",
    "        char_int = self.char2int[char]\n",
    "        char_one_hot = F.one_hot(torch.tensor(char_int), self.n_chars).float()\n",
    "        return char_one_hot.unsqueeze(0).unsqueeze(0).to(self.device)"
   ]
  },
  {
   "cell_type": "code",
   "execution_count": 31,
   "id": "c057a02e",
   "metadata": {},
   "outputs": [],
   "source": [
    "k = 5"
   ]
  },
  {
   "cell_type": "code",
   "execution_count": 32,
   "id": "7dc74bf0",
   "metadata": {},
   "outputs": [],
   "source": [
    "text_generator = GenerateText(model, k, train_dataset.int2char, train_dataset.char2int, device)"
   ]
  },
  {
   "cell_type": "code",
   "execution_count": 33,
   "id": "ae2afab9",
   "metadata": {},
   "outputs": [
    {
     "name": "stdout",
     "output_type": "stream",
     "text": [
      "[abc\n"
     ]
    },
    {
     "data": {
      "text/plain": [
       "'[abc_wd[ntznr]'"
      ]
     },
     "execution_count": 33,
     "metadata": {},
     "output_type": "execute_result"
    }
   ],
   "source": [
    "text_generator.generate_text('abc', max_chars=optimum_length)"
   ]
  },
  {
   "cell_type": "code",
   "execution_count": null,
   "id": "cb195054",
   "metadata": {},
   "outputs": [],
   "source": []
  }
 ],
 "metadata": {
  "kernelspec": {
   "display_name": "Python 3 (ipykernel)",
   "language": "python",
   "name": "python3"
  },
  "language_info": {
   "codemirror_mode": {
    "name": "ipython",
    "version": 3
   },
   "file_extension": ".py",
   "mimetype": "text/x-python",
   "name": "python",
   "nbconvert_exporter": "python",
   "pygments_lexer": "ipython3",
   "version": "3.7.11"
  }
 },
 "nbformat": 4,
 "nbformat_minor": 5
}
